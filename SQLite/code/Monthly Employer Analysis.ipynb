{
 "cells": [
  {
   "cell_type": "markdown",
   "metadata": {},
   "source": [
    "## Load Libs"
   ]
  },
  {
   "cell_type": "code",
   "execution_count": 2,
   "metadata": {},
   "outputs": [],
   "source": [
    "import pandas as pd\n",
    "import os\n",
    "import csv\n",
    "import database_helper as dh"
   ]
  },
  {
   "cell_type": "markdown",
   "metadata": {},
   "source": [
    "## Define Data Source"
   ]
  },
  {
   "cell_type": "markdown",
   "metadata": {},
   "source": [
    "Make sure you save the following raw files under the same folder\n",
    "1. Employer master.csv (download by provider)\n",
    "2. Payment transactions.csv (download from provider)\n",
    "3. pythonsqlite.db (manually created)"
   ]
  },
  {
   "cell_type": "code",
   "execution_count": 4,
   "metadata": {},
   "outputs": [],
   "source": [
    "# if not exist create a db file\n",
    "if not os.path.exists('../data/pythonsqlite.db'):\n",
    "    with open('../data/pythonsqlite.db', 'w'): pass"
   ]
  },
  {
   "cell_type": "code",
   "execution_count": 5,
   "metadata": {},
   "outputs": [],
   "source": [
    "employer = \"../data/Employer master.csv\"\n",
    "payment = \"../data/Payment transactions.csv\"\n",
    "database = r'../data/pythonsqlite.db'"
   ]
  },
  {
   "cell_type": "code",
   "execution_count": 6,
   "metadata": {},
   "outputs": [],
   "source": [
    "# keep raw data without any processing, easy for future data validation\n",
    "raw_employer = pd.read_csv(employer)\n",
    "raw_payment = pd.read_csv(payment)"
   ]
  },
  {
   "cell_type": "markdown",
   "metadata": {},
   "source": [
    "## Database Solution"
   ]
  },
  {
   "cell_type": "markdown",
   "metadata": {},
   "source": [
    "This solution is to save the datasets to sqlite3 database then use SQL language to get aggregation report"
   ]
  },
  {
   "cell_type": "markdown",
   "metadata": {},
   "source": [
    "### Data Check"
   ]
  },
  {
   "cell_type": "markdown",
   "metadata": {},
   "source": [
    " This activity helps us to design the table structure for all data sources"
   ]
  },
  {
   "cell_type": "code",
   "execution_count": 7,
   "metadata": {},
   "outputs": [],
   "source": [
    "# copy raw data to do data check\n",
    "employer_df = raw_employer.copy()\n",
    "payment_df = raw_payment.copy()"
   ]
  },
  {
   "cell_type": "code",
   "execution_count": 8,
   "metadata": {},
   "outputs": [
    {
     "data": {
      "text/html": [
       "<div>\n",
       "<style scoped>\n",
       "    .dataframe tbody tr th:only-of-type {\n",
       "        vertical-align: middle;\n",
       "    }\n",
       "\n",
       "    .dataframe tbody tr th {\n",
       "        vertical-align: top;\n",
       "    }\n",
       "\n",
       "    .dataframe thead th {\n",
       "        text-align: right;\n",
       "    }\n",
       "</style>\n",
       "<table border=\"1\" class=\"dataframe\">\n",
       "  <thead>\n",
       "    <tr style=\"text-align: right;\">\n",
       "      <th></th>\n",
       "      <th>Employer_No</th>\n",
       "      <th>Effective_From</th>\n",
       "      <th>Effective_To</th>\n",
       "      <th>Status</th>\n",
       "      <th>Tier</th>\n",
       "    </tr>\n",
       "  </thead>\n",
       "  <tbody>\n",
       "    <tr>\n",
       "      <th>0</th>\n",
       "      <td>100269</td>\n",
       "      <td>2002-06-29</td>\n",
       "      <td>2016-05-23</td>\n",
       "      <td>Open</td>\n",
       "      <td>3</td>\n",
       "    </tr>\n",
       "    <tr>\n",
       "      <th>1</th>\n",
       "      <td>100269</td>\n",
       "      <td>2016-05-24</td>\n",
       "      <td>2018-11-02</td>\n",
       "      <td>Open</td>\n",
       "      <td>3</td>\n",
       "    </tr>\n",
       "    <tr>\n",
       "      <th>2</th>\n",
       "      <td>100269</td>\n",
       "      <td>2018-11-03</td>\n",
       "      <td>2018-11-04</td>\n",
       "      <td>Open</td>\n",
       "      <td>3</td>\n",
       "    </tr>\n",
       "    <tr>\n",
       "      <th>3</th>\n",
       "      <td>100269</td>\n",
       "      <td>2018-11-05</td>\n",
       "      <td>2018-11-13</td>\n",
       "      <td>Open</td>\n",
       "      <td>3</td>\n",
       "    </tr>\n",
       "    <tr>\n",
       "      <th>4</th>\n",
       "      <td>100269</td>\n",
       "      <td>2018-11-14</td>\n",
       "      <td>2018-11-21</td>\n",
       "      <td>Open</td>\n",
       "      <td>3</td>\n",
       "    </tr>\n",
       "  </tbody>\n",
       "</table>\n",
       "</div>"
      ],
      "text/plain": [
       "   Employer_No Effective_From Effective_To Status  Tier\n",
       "0       100269     2002-06-29   2016-05-23   Open     3\n",
       "1       100269     2016-05-24   2018-11-02   Open     3\n",
       "2       100269     2018-11-03   2018-11-04   Open     3\n",
       "3       100269     2018-11-05   2018-11-13   Open     3\n",
       "4       100269     2018-11-14   2018-11-21   Open     3"
      ]
     },
     "execution_count": 8,
     "metadata": {},
     "output_type": "execute_result"
    }
   ],
   "source": [
    "# show employer first 5 raws\n",
    "employer_df.head()"
   ]
  },
  {
   "cell_type": "code",
   "execution_count": 9,
   "metadata": {},
   "outputs": [
    {
     "data": {
      "text/plain": [
       "Index(['Employer_No', 'Effective_From', 'Effective_To', 'Status', 'Tier'], dtype='object')"
      ]
     },
     "execution_count": 9,
     "metadata": {},
     "output_type": "execute_result"
    }
   ],
   "source": [
    "employer_df.columns"
   ]
  },
  {
   "cell_type": "code",
   "execution_count": 10,
   "metadata": {},
   "outputs": [
    {
     "data": {
      "text/plain": [
       "Employer_No        int64\n",
       "Effective_From    object\n",
       "Effective_To      object\n",
       "Status            object\n",
       "Tier               int64\n",
       "dtype: object"
      ]
     },
     "execution_count": 10,
     "metadata": {},
     "output_type": "execute_result"
    }
   ],
   "source": [
    "employer_df.dtypes"
   ]
  },
  {
   "cell_type": "code",
   "execution_count": 11,
   "metadata": {},
   "outputs": [
    {
     "data": {
      "text/html": [
       "<div>\n",
       "<style scoped>\n",
       "    .dataframe tbody tr th:only-of-type {\n",
       "        vertical-align: middle;\n",
       "    }\n",
       "\n",
       "    .dataframe tbody tr th {\n",
       "        vertical-align: top;\n",
       "    }\n",
       "\n",
       "    .dataframe thead th {\n",
       "        text-align: right;\n",
       "    }\n",
       "</style>\n",
       "<table border=\"1\" class=\"dataframe\">\n",
       "  <thead>\n",
       "    <tr style=\"text-align: right;\">\n",
       "      <th></th>\n",
       "      <th>Employer_No</th>\n",
       "      <th>Cash_Received_Date</th>\n",
       "      <th>Total_Amt</th>\n",
       "    </tr>\n",
       "  </thead>\n",
       "  <tbody>\n",
       "    <tr>\n",
       "      <th>0</th>\n",
       "      <td>100951</td>\n",
       "      <td>6/08/2018</td>\n",
       "      <td>2000.00</td>\n",
       "    </tr>\n",
       "    <tr>\n",
       "      <th>1</th>\n",
       "      <td>100029</td>\n",
       "      <td>26/09/2018</td>\n",
       "      <td>1539.47</td>\n",
       "    </tr>\n",
       "    <tr>\n",
       "      <th>2</th>\n",
       "      <td>100807</td>\n",
       "      <td>15/10/2018</td>\n",
       "      <td>430.00</td>\n",
       "    </tr>\n",
       "    <tr>\n",
       "      <th>3</th>\n",
       "      <td>100130</td>\n",
       "      <td>3/01/2019</td>\n",
       "      <td>942.05</td>\n",
       "    </tr>\n",
       "    <tr>\n",
       "      <th>4</th>\n",
       "      <td>100147</td>\n",
       "      <td>6/11/2018</td>\n",
       "      <td>525.70</td>\n",
       "    </tr>\n",
       "  </tbody>\n",
       "</table>\n",
       "</div>"
      ],
      "text/plain": [
       "   Employer_No Cash_Received_Date  Total_Amt\n",
       "0       100951          6/08/2018    2000.00\n",
       "1       100029         26/09/2018    1539.47\n",
       "2       100807         15/10/2018     430.00\n",
       "3       100130          3/01/2019     942.05\n",
       "4       100147          6/11/2018     525.70"
      ]
     },
     "execution_count": 11,
     "metadata": {},
     "output_type": "execute_result"
    }
   ],
   "source": [
    "# show employer first 5 raws\n",
    "payment_df.head()"
   ]
  },
  {
   "cell_type": "code",
   "execution_count": 12,
   "metadata": {},
   "outputs": [
    {
     "data": {
      "text/plain": [
       "Index(['Employer_No', 'Cash_Received_Date', 'Total_Amt'], dtype='object')"
      ]
     },
     "execution_count": 12,
     "metadata": {},
     "output_type": "execute_result"
    }
   ],
   "source": [
    "payment_df.columns"
   ]
  },
  {
   "cell_type": "code",
   "execution_count": 13,
   "metadata": {},
   "outputs": [
    {
     "data": {
      "text/plain": [
       "Employer_No             int64\n",
       "Cash_Received_Date     object\n",
       "Total_Amt             float64\n",
       "dtype: object"
      ]
     },
     "execution_count": 13,
     "metadata": {},
     "output_type": "execute_result"
    }
   ],
   "source": [
    "payment_df.dtypes"
   ]
  },
  {
   "cell_type": "markdown",
   "metadata": {},
   "source": [
    "### Dtata Processing"
   ]
  },
  {
   "cell_type": "markdown",
   "metadata": {},
   "source": [
    "Based on the analysis, we need make sure the data format is consistent aross all data sources. Because SQLlite could not do data comparsion, need do data string comparsion. "
   ]
  },
  {
   "cell_type": "code",
   "execution_count": 14,
   "metadata": {},
   "outputs": [],
   "source": [
    "# copy raw data to do data processing\n",
    "payment_df = raw_payment.copy()"
   ]
  },
  {
   "cell_type": "code",
   "execution_count": 15,
   "metadata": {},
   "outputs": [],
   "source": [
    "payment_df['Cash_Received_Date'] = pd.to_datetime(payment_df['Cash_Received_Date'], format='%d/%m/%Y')"
   ]
  },
  {
   "cell_type": "code",
   "execution_count": 18,
   "metadata": {},
   "outputs": [
    {
     "data": {
      "text/html": [
       "<div>\n",
       "<style scoped>\n",
       "    .dataframe tbody tr th:only-of-type {\n",
       "        vertical-align: middle;\n",
       "    }\n",
       "\n",
       "    .dataframe tbody tr th {\n",
       "        vertical-align: top;\n",
       "    }\n",
       "\n",
       "    .dataframe thead th {\n",
       "        text-align: right;\n",
       "    }\n",
       "</style>\n",
       "<table border=\"1\" class=\"dataframe\">\n",
       "  <thead>\n",
       "    <tr style=\"text-align: right;\">\n",
       "      <th></th>\n",
       "      <th>Employer_No</th>\n",
       "      <th>Cash_Received_Date</th>\n",
       "      <th>Total_Amt</th>\n",
       "    </tr>\n",
       "  </thead>\n",
       "  <tbody>\n",
       "    <tr>\n",
       "      <th>0</th>\n",
       "      <td>100951</td>\n",
       "      <td>2018-08-06</td>\n",
       "      <td>2000.00</td>\n",
       "    </tr>\n",
       "    <tr>\n",
       "      <th>1</th>\n",
       "      <td>100029</td>\n",
       "      <td>2018-09-26</td>\n",
       "      <td>1539.47</td>\n",
       "    </tr>\n",
       "    <tr>\n",
       "      <th>2</th>\n",
       "      <td>100807</td>\n",
       "      <td>2018-10-15</td>\n",
       "      <td>430.00</td>\n",
       "    </tr>\n",
       "    <tr>\n",
       "      <th>3</th>\n",
       "      <td>100130</td>\n",
       "      <td>2019-01-03</td>\n",
       "      <td>942.05</td>\n",
       "    </tr>\n",
       "    <tr>\n",
       "      <th>4</th>\n",
       "      <td>100147</td>\n",
       "      <td>2018-11-06</td>\n",
       "      <td>525.70</td>\n",
       "    </tr>\n",
       "  </tbody>\n",
       "</table>\n",
       "</div>"
      ],
      "text/plain": [
       "   Employer_No Cash_Received_Date  Total_Amt\n",
       "0       100951         2018-08-06    2000.00\n",
       "1       100029         2018-09-26    1539.47\n",
       "2       100807         2018-10-15     430.00\n",
       "3       100130         2019-01-03     942.05\n",
       "4       100147         2018-11-06     525.70"
      ]
     },
     "execution_count": 18,
     "metadata": {},
     "output_type": "execute_result"
    }
   ],
   "source": [
    "payment_df.head()"
   ]
  },
  {
   "cell_type": "code",
   "execution_count": 19,
   "metadata": {},
   "outputs": [],
   "source": [
    "payment_df.to_csv('../data/Payment transactions Processed.csv', index = False)"
   ]
  },
  {
   "cell_type": "code",
   "execution_count": 20,
   "metadata": {},
   "outputs": [],
   "source": [
    "payment_processed = '../data/Payment transactions Processed.csv'"
   ]
  },
  {
   "cell_type": "markdown",
   "metadata": {},
   "source": [
    "### Setup Database"
   ]
  },
  {
   "cell_type": "markdown",
   "metadata": {},
   "source": [
    "This will use the helper functions defined in the database_helper module"
   ]
  },
  {
   "cell_type": "code",
   "execution_count": 21,
   "metadata": {},
   "outputs": [],
   "source": [
    "# employee table\n",
    "sql_create_employer_table = \"\"\"\n",
    "CREATE TABLE IF NOT EXISTS employer (\n",
    "    Employer_No integer,\n",
    "    Effective_From text,\n",
    "    Effective_To text,\n",
    "    Status text,\n",
    "    Tier integer\n",
    ");\n",
    "\"\"\"\n",
    "# payment transaction table\n",
    "sql_create_payment_table = \"\"\"\n",
    "CREATE TABLE IF NOT EXISTS payment (\n",
    "    Employer_No integer,\n",
    "    Cash_Received_Date text,\n",
    "    Total_Amt Numeric\n",
    ");\n",
    "\"\"\""
   ]
  },
  {
   "cell_type": "code",
   "execution_count": 22,
   "metadata": {},
   "outputs": [
    {
     "name": "stdout",
     "output_type": "stream",
     "text": [
      "Success! Employer table has been created.\n",
      "Success! Payment table has been created.\n",
      "Success! Employer rows has been inserted.\n",
      "Success! Payment table has been inserted.\n"
     ]
    }
   ],
   "source": [
    "# create a database connection\n",
    "conn = dh.create_connection(database)\n",
    "\n",
    "dh.delete_all_employers(conn)\n",
    "dh.delete_all_payments(conn)\n",
    "\n",
    "# create employer rows\n",
    "employer_file = open(employer)\n",
    "employer_reader = csv.reader(employer_file)\n",
    "next(employer_reader, None) # drop header\n",
    "employer_rows = ((int(row[0]),row[1],row[2],row[3],int(row[4])) for row in employer_reader)\n",
    "\n",
    "payment_file = open(payment_processed)\n",
    "payment_reader = csv.reader(payment_file)\n",
    "next(payment_reader, None) # drop header\n",
    "payment_rows =  ((int(row[0]),row[1],float(row[2])) for row in payment_reader)\n",
    "    \n",
    "if conn is not None:\n",
    "    # create tables\n",
    "    # create employer table\n",
    "    dh.create_table(conn, sql_create_employer_table)\n",
    "    print(\"Success! Employer table has been created.\")\n",
    "\n",
    "    # create payment table\n",
    "    dh.create_table(conn, sql_create_payment_table)\n",
    "    print(\"Success! Payment table has been created.\")\n",
    "    \n",
    "    # insert employers\n",
    "    dh.insert_employer(conn,employer_rows)\n",
    "    print(\"Success! Employer rows has been inserted.\")\n",
    "    \n",
    "    # insert payment transactions\n",
    "    dh.insert_payment(conn, payment_rows)\n",
    "    print(\"Success! Payment table has been inserted.\")\n",
    "    \n",
    "    conn.close()\n",
    "else:\n",
    "    print(\"Error! cannot create the database connection.\")\n"
   ]
  },
  {
   "cell_type": "markdown",
   "metadata": {},
   "source": [
    "### Table Check"
   ]
  },
  {
   "cell_type": "code",
   "execution_count": 23,
   "metadata": {},
   "outputs": [
    {
     "data": {
      "text/plain": [
       "5786"
      ]
     },
     "execution_count": 23,
     "metadata": {},
     "output_type": "execute_result"
    }
   ],
   "source": [
    "# Check total employer rows in raw data\n",
    "len(employer_df)"
   ]
  },
  {
   "cell_type": "code",
   "execution_count": 24,
   "metadata": {},
   "outputs": [
    {
     "name": "stdout",
     "output_type": "stream",
     "text": [
      "5786\n"
     ]
    }
   ],
   "source": [
    "conn = dh.create_connection(database)\n",
    "cur = conn.cursor()\n",
    "cur.execute(\"SELECT COUNT(*) FROM employer\")\n",
    "row = cur.fetchall()\n",
    "print(row[0][0]) "
   ]
  },
  {
   "cell_type": "code",
   "execution_count": 25,
   "metadata": {},
   "outputs": [
    {
     "data": {
      "text/plain": [
       "14853"
      ]
     },
     "execution_count": 25,
     "metadata": {},
     "output_type": "execute_result"
    }
   ],
   "source": [
    "# Check total payment transaction rows in raw data\n",
    "len(payment_df)"
   ]
  },
  {
   "cell_type": "code",
   "execution_count": 26,
   "metadata": {},
   "outputs": [
    {
     "name": "stdout",
     "output_type": "stream",
     "text": [
      "14853\n"
     ]
    }
   ],
   "source": [
    "conn = dh.create_connection(database)\n",
    "cur = conn.cursor()\n",
    "cur.execute(\"SELECT COUNT(*) FROM payment\")\n",
    "row = cur.fetchall()\n",
    "print(row[0][0])"
   ]
  },
  {
   "cell_type": "markdown",
   "metadata": {},
   "source": [
    "## Generate report"
   ]
  },
  {
   "cell_type": "markdown",
   "metadata": {},
   "source": [
    "The report takes the form of a table, with the following columns:\n",
    "1. Tier – the employer tier (i.e. segmentation category) of this row\n",
    "2. Month end date – the end date for the month of this row\n",
    "3. Num payments – the total number of superannuation contributions paid for this month/tier\n",
    "4. Amount of payments – the total amount of superannuation contributions paid for this month/tier\n",
    "5. New employers – newly open employer accounts introduced within this month at this tier\n",
    "6. Open emloyers at EOM (end of month) – number of employer accounts open at the month end date at this tier"
   ]
  },
  {
   "cell_type": "code",
   "execution_count": 27,
   "metadata": {},
   "outputs": [],
   "source": [
    "sql_monthly_payments = \"\"\"\n",
    "WITH RECURSIVE\n",
    "  cnt(x) AS (\n",
    "     SELECT 0\n",
    "     UNION ALL\n",
    "     SELECT x+1 FROM cnt\n",
    "      LIMIT (SELECT ROUND(((julianday('2018-12-01') - julianday('2018-01-01'))/30) + 1))\n",
    "  ), \n",
    "  \n",
    "MonthTable AS(\n",
    "SELECT\n",
    "1 as flag,\n",
    "month_start, \n",
    "DATE(month_start,'start of month','+1 month','-1 day') as month_end\n",
    "FROM (SELECT DATE(julianday('2018-01-01'), '+' || x || ' month') as month_start FROM cnt)), \n",
    "\n",
    "Tier AS (\n",
    "SELECT DISTINCT \n",
    "1 as flag,\n",
    "tier\n",
    "FROM employer\n",
    "ORDER BY Tier\n",
    "), \n",
    "\n",
    "EmployerPayment AS (\n",
    "SELECT\n",
    "P.*,\n",
    "E.Tier, \n",
    "MT.month_end\n",
    "FROM payment P \n",
    "INNER JOIN Employer E ON P.Employer_No = E.Employer_No AND replace(P.Cash_Received_Date,'-','') BETWEEN replace(E.Effective_From,'-','') AND replace(E.Effective_To,'-','') \n",
    "INNER JOIN MonthTable MT ON replace(P.Cash_Received_Date,'-','') BETWEEN replace(MT.month_start,'-','') AND replace(MT.month_end,'-','')\n",
    ")\n",
    "\n",
    "SELECT \n",
    "T.tier,\n",
    "MT.month_end, \n",
    "COUNT(EP.Total_Amt) AS num_payments,\n",
    "ROUND(SUM(EP.Total_Amt),2) AS amount_of_payments\n",
    "FROM Tier T\n",
    "INNER JOIN MonthTable MT ON T.flag = MT.flag\n",
    "LEFT JOIN EmployerPayment EP ON EP.tier = T.tier AND EP.month_end = MT.month_end\n",
    "GROUP BY \n",
    "T.tier,\n",
    "MT.month_end\n",
    "\n",
    "ORDER BY \n",
    "T.tier,\n",
    "MT.month_end\n",
    "\n",
    "\"\"\""
   ]
  },
  {
   "cell_type": "code",
   "execution_count": 36,
   "metadata": {},
   "outputs": [],
   "source": [
    "sql_monthly_new_employers = \"\"\"\n",
    "WITH RECURSIVE\n",
    "  cnt(x) AS (\n",
    "     SELECT 0\n",
    "     UNION ALL\n",
    "     SELECT x+1 FROM cnt\n",
    "      LIMIT (SELECT ROUND(((julianday('2018-12-01') - julianday('2018-01-01'))/30) + 1))\n",
    "  ), \n",
    "  \n",
    "MonthTable AS(\n",
    "SELECT\n",
    "1 as flag,\n",
    "month_start, \n",
    "DATE(month_start,'start of month','+1 month','-1 day') as month_end\n",
    "FROM (SELECT DATE(julianday('2018-01-01'), '+' || x || ' month') as month_start FROM cnt)), \n",
    "\n",
    "Tier AS (\n",
    "SELECT DISTINCT \n",
    "1 as flag,\n",
    "tier\n",
    "FROM employer\n",
    "ORDER BY Tier\n",
    "), \n",
    "\n",
    "NewEmployer AS (\n",
    "SELECT\n",
    "E.*, \n",
    "MT.month_end\n",
    "FROM Employer E\n",
    "INNER JOIN MonthTable MT ON replace(E.Effective_From,'-','') BETWEEN replace(MT.month_start,'-','') AND replace(MT.month_end,'-','') AND E.Status = 'Open'\n",
    ")\n",
    "\n",
    "SELECT \n",
    "T.tier,\n",
    "MT.month_end, \n",
    "COUNT(DISTINCT NE.Employer_No) AS new_employers\n",
    "FROM Tier T\n",
    "INNER JOIN MonthTable MT ON T.flag = MT.flag\n",
    "LEFT JOIN NewEmployer NE ON NE.tier = T.tier AND NE.month_end = MT.month_end\n",
    "\n",
    "GROUP BY \n",
    "T.tier,\n",
    "MT.month_end\n",
    "\n",
    "ORDER BY \n",
    "T.tier,\n",
    "MT.month_end\n",
    "\"\"\""
   ]
  },
  {
   "cell_type": "code",
   "execution_count": 37,
   "metadata": {},
   "outputs": [],
   "source": [
    "sql_monthly_open_employers = \"\"\"\n",
    "WITH RECURSIVE\n",
    "  cnt(x) AS (\n",
    "     SELECT 0\n",
    "     UNION ALL\n",
    "     SELECT x+1 FROM cnt\n",
    "      LIMIT (SELECT ROUND(((julianday('2018-12-01') - julianday('2018-01-01'))/30) + 1))\n",
    "  ), \n",
    "  \n",
    "MonthTable AS(\n",
    "SELECT\n",
    "1 as flag,\n",
    "month_start, \n",
    "DATE(month_start,'start of month','+1 month','-1 day') as month_end\n",
    "FROM (SELECT DATE(julianday('2018-01-01'), '+' || x || ' month') as month_start FROM cnt)), \n",
    "\n",
    "Tier AS (\n",
    "SELECT DISTINCT \n",
    "1 as flag,\n",
    "tier\n",
    "FROM employer\n",
    "ORDER BY Tier\n",
    "), \n",
    "\n",
    "OpenEmployerEOM AS (\n",
    "SELECT\n",
    "E.*, \n",
    "MT.month_end\n",
    "FROM Employer E\n",
    "INNER JOIN MonthTable MT ON replace(E.Effective_FROM,'-','') <= replace(MT.month_end,'-','') AND replace(E.Effective_To,'-','') >= replace(MT.month_end,'-','') AND E.Status = 'Open'\n",
    ")\n",
    "\n",
    "\n",
    "SELECT \n",
    "T.tier,\n",
    "MT.month_end, \n",
    "COUNT(DISTINCT OE.Employer_No) AS open_employers_eom\n",
    "\n",
    "FROM Tier T\n",
    "INNER JOIN MonthTable MT ON T.flag = MT.flag\n",
    "LEFT JOIN OpenEmployerEOM OE ON OE.tier = T.tier AND OE.month_end = MT.month_end\n",
    "GROUP BY \n",
    "T.tier,\n",
    "MT.month_end\n",
    "\n",
    "ORDER BY \n",
    "T.tier,\n",
    "MT.month_end\n",
    "\"\"\""
   ]
  },
  {
   "cell_type": "markdown",
   "metadata": {},
   "source": [
    "### Result Check"
   ]
  },
  {
   "cell_type": "code",
   "execution_count": 38,
   "metadata": {},
   "outputs": [
    {
     "data": {
      "text/html": [
       "<div>\n",
       "<style scoped>\n",
       "    .dataframe tbody tr th:only-of-type {\n",
       "        vertical-align: middle;\n",
       "    }\n",
       "\n",
       "    .dataframe tbody tr th {\n",
       "        vertical-align: top;\n",
       "    }\n",
       "\n",
       "    .dataframe thead th {\n",
       "        text-align: right;\n",
       "    }\n",
       "</style>\n",
       "<table border=\"1\" class=\"dataframe\">\n",
       "  <thead>\n",
       "    <tr style=\"text-align: right;\">\n",
       "      <th></th>\n",
       "      <th>tier</th>\n",
       "      <th>month_end</th>\n",
       "      <th>num_payments</th>\n",
       "      <th>amount_of_payments</th>\n",
       "    </tr>\n",
       "  </thead>\n",
       "  <tbody>\n",
       "    <tr>\n",
       "      <th>0</th>\n",
       "      <td>1</td>\n",
       "      <td>2018-01-31</td>\n",
       "      <td>40</td>\n",
       "      <td>66912.91</td>\n",
       "    </tr>\n",
       "    <tr>\n",
       "      <th>1</th>\n",
       "      <td>1</td>\n",
       "      <td>2018-02-28</td>\n",
       "      <td>30</td>\n",
       "      <td>77029.77</td>\n",
       "    </tr>\n",
       "    <tr>\n",
       "      <th>2</th>\n",
       "      <td>1</td>\n",
       "      <td>2018-03-31</td>\n",
       "      <td>0</td>\n",
       "      <td>NaN</td>\n",
       "    </tr>\n",
       "    <tr>\n",
       "      <th>3</th>\n",
       "      <td>1</td>\n",
       "      <td>2018-04-30</td>\n",
       "      <td>45</td>\n",
       "      <td>77125.12</td>\n",
       "    </tr>\n",
       "    <tr>\n",
       "      <th>4</th>\n",
       "      <td>1</td>\n",
       "      <td>2018-05-31</td>\n",
       "      <td>38</td>\n",
       "      <td>100050.32</td>\n",
       "    </tr>\n",
       "  </tbody>\n",
       "</table>\n",
       "</div>"
      ],
      "text/plain": [
       "   tier   month_end  num_payments  amount_of_payments\n",
       "0     1  2018-01-31            40            66912.91\n",
       "1     1  2018-02-28            30            77029.77\n",
       "2     1  2018-03-31             0                 NaN\n",
       "3     1  2018-04-30            45            77125.12\n",
       "4     1  2018-05-31            38           100050.32"
      ]
     },
     "execution_count": 38,
     "metadata": {},
     "output_type": "execute_result"
    }
   ],
   "source": [
    "conn = dh.create_connection(database)\n",
    "payments_df = pd.read_sql_query(sql_monthly_payments, conn)\n",
    "payments_df.head()"
   ]
  },
  {
   "cell_type": "code",
   "execution_count": 39,
   "metadata": {},
   "outputs": [
    {
     "data": {
      "text/html": [
       "<div>\n",
       "<style scoped>\n",
       "    .dataframe tbody tr th:only-of-type {\n",
       "        vertical-align: middle;\n",
       "    }\n",
       "\n",
       "    .dataframe tbody tr th {\n",
       "        vertical-align: top;\n",
       "    }\n",
       "\n",
       "    .dataframe thead th {\n",
       "        text-align: right;\n",
       "    }\n",
       "</style>\n",
       "<table border=\"1\" class=\"dataframe\">\n",
       "  <thead>\n",
       "    <tr style=\"text-align: right;\">\n",
       "      <th></th>\n",
       "      <th>tier</th>\n",
       "      <th>month_end</th>\n",
       "      <th>new_employers</th>\n",
       "    </tr>\n",
       "  </thead>\n",
       "  <tbody>\n",
       "    <tr>\n",
       "      <th>0</th>\n",
       "      <td>1</td>\n",
       "      <td>2018-01-31</td>\n",
       "      <td>0</td>\n",
       "    </tr>\n",
       "    <tr>\n",
       "      <th>1</th>\n",
       "      <td>1</td>\n",
       "      <td>2018-02-28</td>\n",
       "      <td>0</td>\n",
       "    </tr>\n",
       "    <tr>\n",
       "      <th>2</th>\n",
       "      <td>1</td>\n",
       "      <td>2018-03-31</td>\n",
       "      <td>1</td>\n",
       "    </tr>\n",
       "    <tr>\n",
       "      <th>3</th>\n",
       "      <td>1</td>\n",
       "      <td>2018-04-30</td>\n",
       "      <td>2</td>\n",
       "    </tr>\n",
       "    <tr>\n",
       "      <th>4</th>\n",
       "      <td>1</td>\n",
       "      <td>2018-05-31</td>\n",
       "      <td>0</td>\n",
       "    </tr>\n",
       "  </tbody>\n",
       "</table>\n",
       "</div>"
      ],
      "text/plain": [
       "   tier   month_end  new_employers\n",
       "0     1  2018-01-31              0\n",
       "1     1  2018-02-28              0\n",
       "2     1  2018-03-31              1\n",
       "3     1  2018-04-30              2\n",
       "4     1  2018-05-31              0"
      ]
     },
     "execution_count": 39,
     "metadata": {},
     "output_type": "execute_result"
    }
   ],
   "source": [
    "conn = dh.create_connection(database)\n",
    "new_employers_df = pd.read_sql_query(sql_monthly_new_employers, conn)\n",
    "new_employers_df.head()"
   ]
  },
  {
   "cell_type": "code",
   "execution_count": 40,
   "metadata": {},
   "outputs": [
    {
     "data": {
      "text/html": [
       "<div>\n",
       "<style scoped>\n",
       "    .dataframe tbody tr th:only-of-type {\n",
       "        vertical-align: middle;\n",
       "    }\n",
       "\n",
       "    .dataframe tbody tr th {\n",
       "        vertical-align: top;\n",
       "    }\n",
       "\n",
       "    .dataframe thead th {\n",
       "        text-align: right;\n",
       "    }\n",
       "</style>\n",
       "<table border=\"1\" class=\"dataframe\">\n",
       "  <thead>\n",
       "    <tr style=\"text-align: right;\">\n",
       "      <th></th>\n",
       "      <th>tier</th>\n",
       "      <th>month_end</th>\n",
       "      <th>open_employers_eom</th>\n",
       "    </tr>\n",
       "  </thead>\n",
       "  <tbody>\n",
       "    <tr>\n",
       "      <th>0</th>\n",
       "      <td>1</td>\n",
       "      <td>2018-01-31</td>\n",
       "      <td>47</td>\n",
       "    </tr>\n",
       "    <tr>\n",
       "      <th>1</th>\n",
       "      <td>1</td>\n",
       "      <td>2018-02-28</td>\n",
       "      <td>47</td>\n",
       "    </tr>\n",
       "    <tr>\n",
       "      <th>2</th>\n",
       "      <td>1</td>\n",
       "      <td>2018-03-31</td>\n",
       "      <td>48</td>\n",
       "    </tr>\n",
       "    <tr>\n",
       "      <th>3</th>\n",
       "      <td>1</td>\n",
       "      <td>2018-04-30</td>\n",
       "      <td>50</td>\n",
       "    </tr>\n",
       "    <tr>\n",
       "      <th>4</th>\n",
       "      <td>1</td>\n",
       "      <td>2018-05-31</td>\n",
       "      <td>50</td>\n",
       "    </tr>\n",
       "  </tbody>\n",
       "</table>\n",
       "</div>"
      ],
      "text/plain": [
       "   tier   month_end  open_employers_eom\n",
       "0     1  2018-01-31                  47\n",
       "1     1  2018-02-28                  47\n",
       "2     1  2018-03-31                  48\n",
       "3     1  2018-04-30                  50\n",
       "4     1  2018-05-31                  50"
      ]
     },
     "execution_count": 40,
     "metadata": {},
     "output_type": "execute_result"
    }
   ],
   "source": [
    "conn = dh.create_connection(database)\n",
    "open_employers_df = pd.read_sql_query(sql_monthly_open_employers, conn)\n",
    "open_employers_df.head()"
   ]
  },
  {
   "cell_type": "code",
   "execution_count": 44,
   "metadata": {},
   "outputs": [
    {
     "data": {
      "text/html": [
       "<div>\n",
       "<style scoped>\n",
       "    .dataframe tbody tr th:only-of-type {\n",
       "        vertical-align: middle;\n",
       "    }\n",
       "\n",
       "    .dataframe tbody tr th {\n",
       "        vertical-align: top;\n",
       "    }\n",
       "\n",
       "    .dataframe thead th {\n",
       "        text-align: right;\n",
       "    }\n",
       "</style>\n",
       "<table border=\"1\" class=\"dataframe\">\n",
       "  <thead>\n",
       "    <tr style=\"text-align: right;\">\n",
       "      <th></th>\n",
       "      <th>tier</th>\n",
       "      <th>month_end</th>\n",
       "      <th>num_payments</th>\n",
       "      <th>amount_of_payments</th>\n",
       "      <th>new_employers</th>\n",
       "    </tr>\n",
       "  </thead>\n",
       "  <tbody>\n",
       "    <tr>\n",
       "      <th>0</th>\n",
       "      <td>1</td>\n",
       "      <td>2018-01-31</td>\n",
       "      <td>40</td>\n",
       "      <td>66912.91</td>\n",
       "      <td>0</td>\n",
       "    </tr>\n",
       "    <tr>\n",
       "      <th>1</th>\n",
       "      <td>1</td>\n",
       "      <td>2018-02-28</td>\n",
       "      <td>30</td>\n",
       "      <td>77029.77</td>\n",
       "      <td>0</td>\n",
       "    </tr>\n",
       "    <tr>\n",
       "      <th>2</th>\n",
       "      <td>1</td>\n",
       "      <td>2018-03-31</td>\n",
       "      <td>0</td>\n",
       "      <td>NaN</td>\n",
       "      <td>1</td>\n",
       "    </tr>\n",
       "    <tr>\n",
       "      <th>3</th>\n",
       "      <td>1</td>\n",
       "      <td>2018-04-30</td>\n",
       "      <td>45</td>\n",
       "      <td>77125.12</td>\n",
       "      <td>2</td>\n",
       "    </tr>\n",
       "    <tr>\n",
       "      <th>4</th>\n",
       "      <td>1</td>\n",
       "      <td>2018-05-31</td>\n",
       "      <td>38</td>\n",
       "      <td>100050.32</td>\n",
       "      <td>0</td>\n",
       "    </tr>\n",
       "  </tbody>\n",
       "</table>\n",
       "</div>"
      ],
      "text/plain": [
       "   tier   month_end  num_payments  amount_of_payments  new_employers\n",
       "0     1  2018-01-31            40            66912.91              0\n",
       "1     1  2018-02-28            30            77029.77              0\n",
       "2     1  2018-03-31             0                 NaN              1\n",
       "3     1  2018-04-30            45            77125.12              2\n",
       "4     1  2018-05-31            38           100050.32              0"
      ]
     },
     "execution_count": 44,
     "metadata": {},
     "output_type": "execute_result"
    }
   ],
   "source": [
    "report_inner = pd.merge(payments_df, new_employers_df, on=[\"tier\", \"month_end\"])\n",
    "report_inner.head()"
   ]
  },
  {
   "cell_type": "code",
   "execution_count": 45,
   "metadata": {},
   "outputs": [
    {
     "data": {
      "text/html": [
       "<div>\n",
       "<style scoped>\n",
       "    .dataframe tbody tr th:only-of-type {\n",
       "        vertical-align: middle;\n",
       "    }\n",
       "\n",
       "    .dataframe tbody tr th {\n",
       "        vertical-align: top;\n",
       "    }\n",
       "\n",
       "    .dataframe thead th {\n",
       "        text-align: right;\n",
       "    }\n",
       "</style>\n",
       "<table border=\"1\" class=\"dataframe\">\n",
       "  <thead>\n",
       "    <tr style=\"text-align: right;\">\n",
       "      <th></th>\n",
       "      <th>tier</th>\n",
       "      <th>month_end</th>\n",
       "      <th>num_payments</th>\n",
       "      <th>amount_of_payments</th>\n",
       "      <th>new_employers</th>\n",
       "      <th>open_employers_eom</th>\n",
       "    </tr>\n",
       "  </thead>\n",
       "  <tbody>\n",
       "    <tr>\n",
       "      <th>0</th>\n",
       "      <td>1</td>\n",
       "      <td>2018-01-31</td>\n",
       "      <td>40</td>\n",
       "      <td>66912.91</td>\n",
       "      <td>0</td>\n",
       "      <td>47</td>\n",
       "    </tr>\n",
       "    <tr>\n",
       "      <th>1</th>\n",
       "      <td>1</td>\n",
       "      <td>2018-02-28</td>\n",
       "      <td>30</td>\n",
       "      <td>77029.77</td>\n",
       "      <td>0</td>\n",
       "      <td>47</td>\n",
       "    </tr>\n",
       "    <tr>\n",
       "      <th>2</th>\n",
       "      <td>1</td>\n",
       "      <td>2018-03-31</td>\n",
       "      <td>0</td>\n",
       "      <td>NaN</td>\n",
       "      <td>1</td>\n",
       "      <td>48</td>\n",
       "    </tr>\n",
       "    <tr>\n",
       "      <th>3</th>\n",
       "      <td>1</td>\n",
       "      <td>2018-04-30</td>\n",
       "      <td>45</td>\n",
       "      <td>77125.12</td>\n",
       "      <td>2</td>\n",
       "      <td>50</td>\n",
       "    </tr>\n",
       "    <tr>\n",
       "      <th>4</th>\n",
       "      <td>1</td>\n",
       "      <td>2018-05-31</td>\n",
       "      <td>38</td>\n",
       "      <td>100050.32</td>\n",
       "      <td>0</td>\n",
       "      <td>50</td>\n",
       "    </tr>\n",
       "  </tbody>\n",
       "</table>\n",
       "</div>"
      ],
      "text/plain": [
       "   tier   month_end  num_payments  amount_of_payments  new_employers  \\\n",
       "0     1  2018-01-31            40            66912.91              0   \n",
       "1     1  2018-02-28            30            77029.77              0   \n",
       "2     1  2018-03-31             0                 NaN              1   \n",
       "3     1  2018-04-30            45            77125.12              2   \n",
       "4     1  2018-05-31            38           100050.32              0   \n",
       "\n",
       "   open_employers_eom  \n",
       "0                  47  \n",
       "1                  47  \n",
       "2                  48  \n",
       "3                  50  \n",
       "4                  50  "
      ]
     },
     "execution_count": 45,
     "metadata": {},
     "output_type": "execute_result"
    }
   ],
   "source": [
    "report_final = pd.merge(report_inner , open_employers_df, on=[\"tier\", \"month_end\"])\n",
    "report_final.head()"
   ]
  },
  {
   "cell_type": "code",
   "execution_count": 46,
   "metadata": {},
   "outputs": [],
   "source": [
    "report_final.columns = ['Tier','Month end date','Num payments','Amount of payments','New employers','Open employers at EOM']"
   ]
  },
  {
   "cell_type": "code",
   "execution_count": 47,
   "metadata": {},
   "outputs": [],
   "source": [
    "report_final['Month end date'] = pd.to_datetime(report_final['Month end date'])\n",
    "report_final['Month end date'] = report_final['Month end date'].dt.strftime('%d/%m/%Y')"
   ]
  },
  {
   "cell_type": "code",
   "execution_count": 49,
   "metadata": {},
   "outputs": [],
   "source": [
    "report_final.to_csv('../result/monthly_employer_report.csv',index=False)"
   ]
  },
  {
   "cell_type": "code",
   "execution_count": null,
   "metadata": {},
   "outputs": [],
   "source": []
  }
 ],
 "metadata": {
  "kernelspec": {
   "display_name": "Python 3",
   "language": "python",
   "name": "python3"
  },
  "language_info": {
   "codemirror_mode": {
    "name": "ipython",
    "version": 3
   },
   "file_extension": ".py",
   "mimetype": "text/x-python",
   "name": "python",
   "nbconvert_exporter": "python",
   "pygments_lexer": "ipython3",
   "version": "3.9.1"
  }
 },
 "nbformat": 4,
 "nbformat_minor": 4
}
