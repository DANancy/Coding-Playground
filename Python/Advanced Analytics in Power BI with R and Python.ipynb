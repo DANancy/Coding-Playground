{
 "cells": [
  {
   "cell_type": "code",
   "execution_count": null,
   "metadata": {},
   "outputs": [],
   "source": [
    "# study resources\n",
    "\n",
    "# R\n",
    "# R for Data Science: https://r4ds.had.co.naz/\n",
    "# An Introduction to Statistical Learning: With Application in R: https://faculty.marshall.usc.edu/gareth-james/ISL/ISLR%20Seventh%20Printing.pdf\n",
    "# RStudio: https://rstudio.com\n",
    "# The R Graph Gallery: www.r-graph-gallery.com\n",
    "# R Bloogers: www.r-bloggers.com\n",
    "# dplyr tutorial Part 1: www.youtube.com/watch?v=8SGif63VW6E&t=15s\n",
    "# dplyr tutorial Part 2: www.youtube.com/watch?v=Ue08LVuk790\n",
    "\n",
    "# Python\n",
    "# Hands-On Machine Learning with Scikit-Learn, Keras, and TensorFlow\n",
    "# Python for Data analysis\n",
    "# Data School: www.youtube.com/channel/UCnVzApLJE2lJPZSeQy1SEyg\n",
    "# Google's Python Class:https://developers.google.com/edu/python\n",
    "# Talk Python to Me: https://talkpython.fm\n",
    "# PEP8: https://pep8.org\n",
    "\n",
    "# Power BI\n",
    "# Guy in a Cube: https://www.youtube.com/channel/UCFp1vaKzpfvoGai0vE5VJ0w\n",
    "# SQLBI\n",
    "# Tabular Editor: https://tabulareditor.com\n",
    "# The Definitive Guide to DAx=X\n",
    "# M Is for Data Monkeys\n",
    "# BIFOCAL- podcast\n",
    "\n",
    "# General\n",
    "# Data Science for Business\n",
    "# Data Science Gentral: www.datasciencecentral.com\n",
    "# Kaggle\n",
    "# ExcelTv: https://excel.tv\n",
    "# Excel on Fire: www.youtube.com/user/WalrusCandy/featured\n",
    "# Regular Expression Tutorial by Corey Schafer: www.youtube.com/watch?v=sa-TUpSx1JA&t=554s\n",
    "# Analytics on Fire podcast\n",
    "# Data Skeptic\n",
    "# Frekonomics\n",
    "# SQL Data Partners\n",
    "# Storytelling with Data"
   ]
  },
  {
   "cell_type": "code",
   "execution_count": null,
   "metadata": {},
   "outputs": [],
   "source": []
  }
 ],
 "metadata": {
  "kernelspec": {
   "display_name": "Python 3",
   "language": "python",
   "name": "python3"
  },
  "language_info": {
   "codemirror_mode": {
    "name": "ipython",
    "version": 3
   },
   "file_extension": ".py",
   "mimetype": "text/x-python",
   "name": "python",
   "nbconvert_exporter": "python",
   "pygments_lexer": "ipython3",
   "version": "3.9.1"
  }
 },
 "nbformat": 4,
 "nbformat_minor": 4
}
